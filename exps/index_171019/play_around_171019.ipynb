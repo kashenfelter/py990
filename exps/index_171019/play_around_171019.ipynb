{
 "cells": [
  {
   "cell_type": "code",
   "execution_count": 5,
   "metadata": {
    "collapsed": true
   },
   "outputs": [],
   "source": [
    "import requests\n",
    "import pandas as pd\n",
    "import xml.etree.ElementTree as ET"
   ]
  },
  {
   "cell_type": "code",
   "execution_count": 108,
   "metadata": {},
   "outputs": [
    {
     "data": {
      "text/plain": [
       "'201014493493001600_public.xml'"
      ]
     },
     "execution_count": 108,
     "metadata": {},
     "output_type": "execute_result"
    }
   ],
   "source": [
    "root=ET.fromstring(requests.get('https://s3.amazonaws.com/irs-form-990').text)\n",
    "root.getchildren()[56][0].text"
   ]
  },
  {
   "cell_type": "code",
   "execution_count": 109,
   "metadata": {
    "scrolled": true
   },
   "outputs": [],
   "source": [
    "index_dict={}\n",
    "index_num=0\n",
    "for child in root.getchildren()[5:]:\n",
    "    index_dict[index_num]={}\n",
    "    for sub_child in child.iter():\n",
    "        index_dict[index_num][sub_child.tag.strip('{http://s3.amazonaws.com/doc/2006-03-01/}')]=sub_child.text\n",
    "    index_num+=1"
   ]
  },
  {
   "cell_type": "code",
   "execution_count": 110,
   "metadata": {},
   "outputs": [
    {
     "data": {
      "text/html": [
       "<div>\n",
       "<style>\n",
       "    .dataframe thead tr:only-child th {\n",
       "        text-align: right;\n",
       "    }\n",
       "\n",
       "    .dataframe thead th {\n",
       "        text-align: left;\n",
       "    }\n",
       "\n",
       "    .dataframe tbody tr th {\n",
       "        vertical-align: top;\n",
       "    }\n",
       "</style>\n",
       "<table border=\"1\" class=\"dataframe\">\n",
       "  <thead>\n",
       "    <tr style=\"text-align: right;\">\n",
       "      <th></th>\n",
       "      <th>Conte</th>\n",
       "      <th>Key</th>\n",
       "      <th>LastModifie</th>\n",
       "      <th>ETag</th>\n",
       "      <th>Size</th>\n",
       "      <th>Owner</th>\n",
       "      <th>ID</th>\n",
       "      <th>DisplayName</th>\n",
       "      <th>StorageCl</th>\n",
       "    </tr>\n",
       "  </thead>\n",
       "  <tbody>\n",
       "    <tr>\n",
       "      <th>191</th>\n",
       "      <td>None</td>\n",
       "      <td>201015893492000030_public.xml</td>\n",
       "      <td>2016-03-22T01:37:43.000Z</td>\n",
       "      <td>\"95aaff7b8a824b7177324ec825f6e753\"</td>\n",
       "      <td>10124</td>\n",
       "      <td>None</td>\n",
       "      <td>0ae4c12b9d736edf3dd39976339f7099d887b890b44800...</td>\n",
       "      <td>jalynne.k.archibald</td>\n",
       "      <td>STANDARD</td>\n",
       "    </tr>\n",
       "    <tr>\n",
       "      <th>926</th>\n",
       "      <td>None</td>\n",
       "      <td>201020993492004090_public.xml</td>\n",
       "      <td>2016-03-22T03:20:33.000Z</td>\n",
       "      <td>\"6e56080c623a2429ae23edbaedd91e75\"</td>\n",
       "      <td>8126</td>\n",
       "      <td>None</td>\n",
       "      <td>0ae4c12b9d736edf3dd39976339f7099d887b890b44800...</td>\n",
       "      <td>jalynne.k.archibald</td>\n",
       "      <td>STANDARD</td>\n",
       "    </tr>\n",
       "    <tr>\n",
       "      <th>183</th>\n",
       "      <td>None</td>\n",
       "      <td>201015893491001500_public.xml</td>\n",
       "      <td>2016-03-21T20:22:29.000Z</td>\n",
       "      <td>\"40dd0ecd2924fd19e20012a05cd553c9\"</td>\n",
       "      <td>53799</td>\n",
       "      <td>None</td>\n",
       "      <td>0ae4c12b9d736edf3dd39976339f7099d887b890b44800...</td>\n",
       "      <td>jalynne.k.archibald</td>\n",
       "      <td>STANDARD</td>\n",
       "    </tr>\n",
       "    <tr>\n",
       "      <th>445</th>\n",
       "      <td>None</td>\n",
       "      <td>201017093491001000_public.xml</td>\n",
       "      <td>2016-03-22T02:15:35.000Z</td>\n",
       "      <td>\"123cd6d8d244f3a52098285f79ca6b28\"</td>\n",
       "      <td>26456</td>\n",
       "      <td>None</td>\n",
       "      <td>0ae4c12b9d736edf3dd39976339f7099d887b890b44800...</td>\n",
       "      <td>jalynne.k.archibald</td>\n",
       "      <td>STANDARD</td>\n",
       "    </tr>\n",
       "    <tr>\n",
       "      <th>525</th>\n",
       "      <td>None</td>\n",
       "      <td>201017593492002040_public.xml</td>\n",
       "      <td>2016-03-22T02:35:10.000Z</td>\n",
       "      <td>\"dea56653e99c5789671d869b14962e47\"</td>\n",
       "      <td>13860</td>\n",
       "      <td>None</td>\n",
       "      <td>0ae4c12b9d736edf3dd39976339f7099d887b890b44800...</td>\n",
       "      <td>jalynne.k.archibald</td>\n",
       "      <td>STANDARD</td>\n",
       "    </tr>\n",
       "  </tbody>\n",
       "</table>\n",
       "</div>"
      ],
      "text/plain": [
       "    Conte                            Key               LastModifie  \\\n",
       "191  None  201015893492000030_public.xml  2016-03-22T01:37:43.000Z   \n",
       "926  None  201020993492004090_public.xml  2016-03-22T03:20:33.000Z   \n",
       "183  None  201015893491001500_public.xml  2016-03-21T20:22:29.000Z   \n",
       "445  None  201017093491001000_public.xml  2016-03-22T02:15:35.000Z   \n",
       "525  None  201017593492002040_public.xml  2016-03-22T02:35:10.000Z   \n",
       "\n",
       "                                   ETag   Size Owner  \\\n",
       "191  \"95aaff7b8a824b7177324ec825f6e753\"  10124  None   \n",
       "926  \"6e56080c623a2429ae23edbaedd91e75\"   8126  None   \n",
       "183  \"40dd0ecd2924fd19e20012a05cd553c9\"  53799  None   \n",
       "445  \"123cd6d8d244f3a52098285f79ca6b28\"  26456  None   \n",
       "525  \"dea56653e99c5789671d869b14962e47\"  13860  None   \n",
       "\n",
       "                                                    ID          DisplayName  \\\n",
       "191  0ae4c12b9d736edf3dd39976339f7099d887b890b44800...  jalynne.k.archibald   \n",
       "926  0ae4c12b9d736edf3dd39976339f7099d887b890b44800...  jalynne.k.archibald   \n",
       "183  0ae4c12b9d736edf3dd39976339f7099d887b890b44800...  jalynne.k.archibald   \n",
       "445  0ae4c12b9d736edf3dd39976339f7099d887b890b44800...  jalynne.k.archibald   \n",
       "525  0ae4c12b9d736edf3dd39976339f7099d887b890b44800...  jalynne.k.archibald   \n",
       "\n",
       "    StorageCl  \n",
       "191  STANDARD  \n",
       "926  STANDARD  \n",
       "183  STANDARD  \n",
       "445  STANDARD  \n",
       "525  STANDARD  "
      ]
     },
     "execution_count": 110,
     "metadata": {},
     "output_type": "execute_result"
    }
   ],
   "source": [
    "pd.DataFrame.from_dict(index_dict, orient='index').sample(5)"
   ]
  },
  {
   "cell_type": "code",
   "execution_count": null,
   "metadata": {
    "collapsed": true
   },
   "outputs": [],
   "source": []
  }
 ],
 "metadata": {
  "kernelspec": {
   "display_name": "Python 3",
   "language": "python",
   "name": "python3"
  },
  "language_info": {
   "codemirror_mode": {
    "name": "ipython",
    "version": 3
   },
   "file_extension": ".py",
   "mimetype": "text/x-python",
   "name": "python",
   "nbconvert_exporter": "python",
   "pygments_lexer": "ipython3",
   "version": "3.6.1"
  },
  "toc": {
   "colors": {
    "hover_highlight": "#DAA520",
    "running_highlight": "#FF0000",
    "selected_highlight": "#FFD700"
   },
   "moveMenuLeft": true,
   "navigate_menu": false,
   "number_sections": true,
   "sideBar": true,
   "threshold": "3",
   "toc_cell": false,
   "toc_section_display": "block",
   "toc_window_display": true
  }
 },
 "nbformat": 4,
 "nbformat_minor": 2
}
